{
  "cells": [
   {
   "cell_type": "markdown",
   "metadata": {
   "id": "view-in-github",
   "colab_type": "text"
   },
   "source": [
     "<a href=\"https://colab.research.google.com/github/ClarinetteG/machine_learning_courses/blob/master/EmotionsRecognition.ipynb\" target=\"_parent\"><img src=\"https://colab.research.google.com/assets/colab-badge.svg\" alt=\"Open In Colab\"/></a>"
   ]
  },
  {
   "cell_type": "code",
   "execution_count": null,
   "metadata": {},
   "outputs": [],
   "source": [
    "import cv2\n",
    "import glob\n",
    "import random\n",
    "import math\n",
    "import numpy as np\n",
    "import dlib\n",
    "import itertools\n",
    "from sklearn.svm import SVC\n",
    "from shutil import copyfile\n",
    "import os\n",
    "import pandas as pd"
   ]
  }
}
